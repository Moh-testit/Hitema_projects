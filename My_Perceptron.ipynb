{
 "cells": [
  {
   "cell_type": "code",
   "execution_count": 2,
   "id": "6a9beedd-d4ef-4b4e-9925-499d31f1cf8f",
   "metadata": {},
   "outputs": [
    {
     "name": "stdout",
     "output_type": "stream",
     "text": [
      "Le courrier électronique est classé comme spam.\n"
     ]
    }
   ],
   "source": [
    "import random\n",
    "\n",
    "# cette fonction est utilisé pour initialiser les poids et le biais\n",
    "def initialize_weights_and_bias(num_features):\n",
    "    weights = [random.uniform(-1, 1) for _ in range(num_features)]\n",
    "    bias = random.uniform(-1, 1)\n",
    "    return weights, bias\n",
    "\n",
    "# cette fonction initialise et active les étapes de façon graduelle\n",
    "def activation_function(summation):\n",
    "    return 1 if summation > 0 else 0\n",
    "\n",
    "# Fvoici le fonction qui entraîne mon perceptron\n",
    "def train_perceptron(X, y, learning_rate, num_epochs):\n",
    "    num_features = len(X[0])\n",
    "    weights, bias = initialize_weights_and_bias(num_features)\n",
    "    \n",
    "    for epoch in range(num_epochs):\n",
    "        for i in range(len(X)):\n",
    "            inputs = X[i]\n",
    "            target = y[i]\n",
    "            \n",
    "            # ici nous effectuons le calcul de la somme pondérée\n",
    "            summation = bias\n",
    "            for j in range(num_features):\n",
    "                summation += weights[j] * inputs[j]\n",
    "            \n",
    "            # ici on intègre le calcul de la sortie prédite\n",
    "            output = activation_function(summation)\n",
    "            \n",
    "            # ici nous vérifions s'il ya une erreur afin de mettre à jour le poids et le biais\n",
    "            error = target - output\n",
    "            bias += learning_rate * error\n",
    "            for j in range(num_features):\n",
    "                weights[j] += learning_rate * error * inputs[j]\n",
    "    \n",
    "    return weights, bias\n",
    "\n",
    "# Voici notre fonction de prédiction\n",
    "def predict_perceptron(X, weights, bias):\n",
    "    predictions = []\n",
    "    for inputs in X:\n",
    "        summation = bias\n",
    "        for i in range(len(inputs)):\n",
    "            summation += weights[i] * inputs[i]\n",
    "        output = activation_function(summation)\n",
    "        predictions.append(output)\n",
    "    return predictions\n",
    "\n",
    "# Données d'entraînement fictives pour la détection de spam\n",
    "X_train = [\n",
    "    [1, 0, 0],  # Le mot \"gratuit\" est présent\n",
    "    [0, 1, 1],  # Les mots \"offre\" et \"spéciale\" sont présents\n",
    "    [0, 1, 0],  # Le mot \"offre\" est présent\n",
    "    [0, 0, 1]   # Le mot \"urgent\" est présent\n",
    "]\n",
    "\n",
    "y_train = [1, 1, 0, 0]  # 1 pour spam, 0 pour non spam\n",
    "\n",
    "# ici nous initialisons de quoi entraîner le perceptron\n",
    "learning_rate = 0.1\n",
    "num_epochs = 1000\n",
    "trained_weights, trained_bias = train_perceptron(X_train, y_train, learning_rate, num_epochs)\n",
    "\n",
    "# Exemple de courrier électronique pour effectuer le test\n",
    "email_test = [[1, 0, 1]]  # Les mots \"gratuit\" et \"urgent\" sont présents\n",
    "\n",
    "# on lance la prediction sur le modèle entraîné pour l'email de test\n",
    "predictions = predict_perceptron(email_test, trained_weights, trained_bias)\n",
    "\n",
    "# On lance le test et on observe la prédiction\n",
    "if predictions[0] == 1:\n",
    "    print(\"Le courrier électronique est classé comme spam.\")\n",
    "else:\n",
    "    print(\"Le courrier électronique n'est pas classé comme spam.\")"
   ]
  },
  {
   "cell_type": "code",
   "execution_count": null,
   "id": "8af78eae-8ad3-491f-b7b4-16fce3161396",
   "metadata": {},
   "outputs": [],
   "source": []
  }
 ],
 "metadata": {
  "kernelspec": {
   "display_name": "Python 3 (ipykernel)",
   "language": "python",
   "name": "python3"
  },
  "language_info": {
   "codemirror_mode": {
    "name": "ipython",
    "version": 3
   },
   "file_extension": ".py",
   "mimetype": "text/x-python",
   "name": "python",
   "nbconvert_exporter": "python",
   "pygments_lexer": "ipython3",
   "version": "3.11.5"
  }
 },
 "nbformat": 4,
 "nbformat_minor": 5
}
