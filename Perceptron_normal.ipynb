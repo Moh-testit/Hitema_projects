{
 "cells": [
  {
   "cell_type": "code",
   "execution_count": 4,
   "id": "153734ad-3c62-43f2-82ff-5ac62b89e441",
   "metadata": {},
   "outputs": [
    {
     "name": "stdout",
     "output_type": "stream",
     "text": [
      "Le courrier électronique est classé comme spam.\n"
     ]
    }
   ],
   "source": [
    "from sklearn.linear_model import Perceptron\n",
    "import numpy as np\n",
    "\n",
    "# Données d'entraînement pour la détection de spam (exemples simplifiés)\n",
    "X_train = np.array([\n",
    "    [1, 0, 0],  # Le mot \"gratuit\" est présent\n",
    "    [0, 1, 1],  # Les mots \"offre\" et \"spéciale\" sont présents\n",
    "    [0, 1, 0],  # Le mot \"offre\" est présent\n",
    "    [0, 0, 1]   # Le mot \"urgent\" est présent\n",
    "])\n",
    "\n",
    "y_train = np.array([1, 1, 0, 0])  # 1 pour spam, 0 pour non spam\n",
    "\n",
    "# Création et entraînement du modèle de perceptron\n",
    "perceptron = Perceptron()\n",
    "perceptron.fit(X_train, y_train)\n",
    "\n",
    "# Exemple de courrier électronique de test (représenté par la présence/absence de certains mots)\n",
    "email_test = np.array([[1, 0, 1]])  # Les mots \"gratuit\" et \"urgent\" sont présents\n",
    "\n",
    "# Prédiction du modèle entraîné pour l'email de test\n",
    "prediction = perceptron.predict(email_test)\n",
    "\n",
    "# Afficher la prédiction\n",
    "if prediction == 1:\n",
    "    print(\"Le courrier électronique est classé comme spam.\")\n",
    "else:\n",
    "    print(\"Le courrier électronique n'est pas classé comme spam.\")"
   ]
  },
  {
   "cell_type": "code",
   "execution_count": null,
   "id": "39ae45c8",
   "metadata": {},
   "outputs": [],
   "source": []
  },
  {
   "cell_type": "code",
   "execution_count": null,
   "id": "1817c421-6ab0-4806-bb69-916971be048a",
   "metadata": {},
   "outputs": [],
   "source": []
  }
 ],
 "metadata": {
  "kernelspec": {
   "display_name": "Python 3 (ipykernel)",
   "language": "python",
   "name": "python3"
  },
  "language_info": {
   "codemirror_mode": {
    "name": "ipython",
    "version": 3
   },
   "file_extension": ".py",
   "mimetype": "text/x-python",
   "name": "python",
   "nbconvert_exporter": "python",
   "pygments_lexer": "ipython3",
   "version": "3.11.5"
  }
 },
 "nbformat": 4,
 "nbformat_minor": 5
}
